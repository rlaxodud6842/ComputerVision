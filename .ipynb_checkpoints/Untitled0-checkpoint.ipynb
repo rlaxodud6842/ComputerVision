{
 "cells": [
  {
   "cell_type": "markdown",
   "metadata": {
    "id": "7Ja9orIlyN0n"
   },
   "source": [
    "# 데이터셋 불러오기"
   ]
  },
  {
   "cell_type": "code",
   "execution_count": 1,
   "metadata": {
    "id": "Ab_giiS6vnaV"
   },
   "outputs": [],
   "source": [
    "import tensorflow as tf\n",
    "import matplotlib.pyplot as plt\n",
    "\n",
    "data_train, data_test = tf.keras.datasets.mnist.load_data()\n",
    "(image_train, labels_train)= data_train\n",
    "(image_test, labels_test)= data_test"
   ]
  },
  {
   "cell_type": "markdown",
   "metadata": {
    "id": "grv9UZHDyMBx"
   },
   "source": [
    "# 한개 표시"
   ]
  },
  {
   "cell_type": "code",
   "execution_count": 2,
   "metadata": {
    "colab": {
     "base_uri": "https://localhost:8080/",
     "height": 490
    },
    "id": "GJdA-_g8wj4x",
    "outputId": "92968e97-1124-45c1-8afb-e41d75dd6664"
   },
   "outputs": [
    {
     "data": {
      "text/plain": [
       "Text(0, 0.5, 'y')"
      ]
     },
     "execution_count": 2,
     "metadata": {},
     "output_type": "execute_result"
    },
    {
     "data": {
      "image/png": "[encoded data removed]",
      "text/plain": [
       "<Figure size 640x480 with 1 Axes>"
      ]
     },
     "metadata": {},
     "output_type": "display_data"
    }
   ],
   "source": [
    "plt.imshow(image_train[0], cmap = plt.cm.binary)\n",
    "plt.title(labels_train[0])\n",
    "plt.grid(True)\n",
    "plt.xlabel('x')\n",
    "plt.ylabel('y')"
   ]
  },
  {
   "cell_type": "markdown",
   "metadata": {
    "id": "AdNgFNapyI1_"
   },
   "source": [
    "# 정규화"
   ]
  },
  {
   "cell_type": "code",
   "execution_count": 3,
   "metadata": {
    "id": "qvpGnuEdwkHD"
   },
   "outputs": [],
   "source": [
    "image_train, image_test = image_train/255.0, image_test/255.0"
   ]
  },
  {
   "cell_type": "markdown",
   "metadata": {
    "id": "f5bLN1BmyV9A"
   },
   "source": [
    "# 모델"
   ]
  },
  {
   "cell_type": "code",
   "execution_count": 4,
   "metadata": {
    "id": "meYodoK4yIAg"
   },
   "outputs": [],
   "source": [
    "from tensorflow import keras\n",
    "from tensorflow.keras import layers"
   ]
  },
  {
   "cell_type": "code",
   "execution_count": 9,
   "metadata": {
    "colab": {
     "base_uri": "https://localhost:8080/"
    },
    "id": "-Pscuy8LyVb0",
    "outputId": "7c4071da-0ef7-407d-8d01-fee1a6c121f6"
   },
   "outputs": [
    {
     "name": "stdout",
     "output_type": "stream",
     "text": [
      "Model: \"sequential_1\"\n",
      "_________________________________________________________________\n",
      " Layer (type)                Output Shape              Param #   \n",
      "=================================================================\n",
      " dense_2 (Dense)             (None, 128)               100480    \n",
      "                                                                 \n",
      " flatten_1 (Flatten)         (None, 128)               0         \n",
      "                                                                 \n",
      " dense_3 (Dense)             (None, 128)               16512     \n",
      "                                                                 \n",
      " dropout_1 (Dropout)         (None, 128)               0         \n",
      "                                                                 \n",
      " dense_4 (Dense)             (None, 10)                1290      \n",
      "                                                                 \n",
      "=================================================================\n",
      "Total params: 118,282\n",
      "Trainable params: 118,282\n",
      "Non-trainable params: 0\n",
      "_________________________________________________________________\n"
     ]
    }
   ],
   "source": [
    "model2=keras.models.Sequential([\n",
    "    layers.Dense(128,activation = 'relu',input_shape = (28*28,)),\n",
    "    layers.Flatten(input_shape = (28,28)),\n",
    "    layers.Dense(128,activation = 'relu'),\n",
    "    layers.Dropout(0.2),\n",
    "    layers.Dense(10,activation = 'softmax')\n",
    "])\n",
    "model2.summary()\n"
   ]
  },
  {
   "cell_type": "code",
   "execution_count": 10,
   "metadata": {
    "id": "UciF_3TCyZsC"
   },
   "outputs": [],
   "source": [
    "model2.compile(optimizer='adam',\n",
    "             loss = 'sparse_categorical_crossentropy',\n",
    "             metrics = ['accuracy'])    "
   ]
  },
  {
   "cell_type": "code",
   "execution_count": 11,
   "metadata": {
    "colab": {
     "base_uri": "https://localhost:8080/"
    },
    "id": "GtBqHTl5yg6y",
    "outputId": "24e8c0d5-303d-4052-f64d-12ab3f5c8ef2"
   },
   "outputs": [
    {
     "name": "stdout",
     "output_type": "stream",
     "text": [
      "(60000, 784)\n",
      "(10000, 784)\n"
     ]
    }
   ],
   "source": [
    "image_train_v=image_train.reshape((-1,28*28))\n",
    "image_test_v=image_test.reshape((-1,28*28))\n",
    "print(image_train_v.shape)\n",
    "print(image_test_v.shape)"
   ]
  },
  {
   "cell_type": "code",
   "execution_count": 12,
   "metadata": {
    "colab": {
     "base_uri": "https://localhost:8080/"
    },
    "id": "sdcI_peJyi3z",
    "outputId": "b9f65f35-b3ed-491b-c296-5b2011f5202d"
   },
   "outputs": [
    {
     "name": "stdout",
     "output_type": "stream",
     "text": [
      "Epoch 1/50\n",
      "600/600 [==============================] - 1s 2ms/step - loss: 0.3294 - accuracy: 0.9027 - val_loss: 0.1393 - val_accuracy: 0.9563\n",
      "Epoch 2/50\n",
      "600/600 [==============================] - 1s 1ms/step - loss: 0.1272 - accuracy: 0.9617 - val_loss: 0.1015 - val_accuracy: 0.9683\n",
      "Epoch 3/50\n",
      "600/600 [==============================] - 1s 1ms/step - loss: 0.0907 - accuracy: 0.9727 - val_loss: 0.0768 - val_accuracy: 0.9777\n",
      "Epoch 4/50\n",
      "600/600 [==============================] - 1s 1ms/step - loss: 0.0689 - accuracy: 0.9793 - val_loss: 0.0883 - val_accuracy: 0.9722\n",
      "Epoch 5/50\n",
      "600/600 [==============================] - 1s 2ms/step - loss: 0.0562 - accuracy: 0.9826 - val_loss: 0.0690 - val_accuracy: 0.9794\n",
      "Epoch 6/50\n",
      "600/600 [==============================] - 1s 1ms/step - loss: 0.0470 - accuracy: 0.9850 - val_loss: 0.0741 - val_accuracy: 0.9789\n",
      "Epoch 7/50\n",
      "600/600 [==============================] - 1s 2ms/step - loss: 0.0367 - accuracy: 0.9882 - val_loss: 0.0708 - val_accuracy: 0.9777\n",
      "Epoch 8/50\n",
      "600/600 [==============================] - 1s 1ms/step - loss: 0.0300 - accuracy: 0.9905 - val_loss: 0.0687 - val_accuracy: 0.9804\n",
      "Epoch 9/50\n",
      "600/600 [==============================] - 1s 1ms/step - loss: 0.0263 - accuracy: 0.9913 - val_loss: 0.0789 - val_accuracy: 0.9792\n",
      "Epoch 10/50\n",
      "600/600 [==============================] - 1s 1ms/step - loss: 0.0248 - accuracy: 0.9917 - val_loss: 0.0745 - val_accuracy: 0.9818\n",
      "Epoch 11/50\n",
      "600/600 [==============================] - 1s 1ms/step - loss: 0.0203 - accuracy: 0.9934 - val_loss: 0.0833 - val_accuracy: 0.9789\n",
      "Epoch 12/50\n",
      "600/600 [==============================] - 1s 1ms/step - loss: 0.0177 - accuracy: 0.9943 - val_loss: 0.0715 - val_accuracy: 0.9812\n",
      "Epoch 13/50\n",
      "600/600 [==============================] - 1s 1ms/step - loss: 0.0175 - accuracy: 0.9943 - val_loss: 0.0807 - val_accuracy: 0.9807\n",
      "Epoch 14/50\n",
      "600/600 [==============================] - 1s 2ms/step - loss: 0.0152 - accuracy: 0.9948 - val_loss: 0.0912 - val_accuracy: 0.9770\n",
      "Epoch 15/50\n",
      "600/600 [==============================] - 1s 2ms/step - loss: 0.0135 - accuracy: 0.9953 - val_loss: 0.0889 - val_accuracy: 0.9790\n",
      "Epoch 16/50\n",
      "600/600 [==============================] - 1s 1ms/step - loss: 0.0137 - accuracy: 0.9952 - val_loss: 0.0955 - val_accuracy: 0.9783\n",
      "Epoch 17/50\n",
      "600/600 [==============================] - 1s 1ms/step - loss: 0.0113 - accuracy: 0.9962 - val_loss: 0.0934 - val_accuracy: 0.9784\n",
      "Epoch 18/50\n",
      "600/600 [==============================] - 1s 1ms/step - loss: 0.0128 - accuracy: 0.9958 - val_loss: 0.0913 - val_accuracy: 0.9808\n",
      "Epoch 19/50\n",
      "600/600 [==============================] - 1s 1ms/step - loss: 0.0111 - accuracy: 0.9962 - val_loss: 0.0984 - val_accuracy: 0.9793\n",
      "Epoch 20/50\n",
      "600/600 [==============================] - 1s 1ms/step - loss: 0.0082 - accuracy: 0.9974 - val_loss: 0.1007 - val_accuracy: 0.9805\n",
      "Epoch 21/50\n",
      "600/600 [==============================] - 1s 1ms/step - loss: 0.0108 - accuracy: 0.9963 - val_loss: 0.1085 - val_accuracy: 0.9783\n",
      "Epoch 22/50\n",
      "600/600 [==============================] - 1s 1ms/step - loss: 0.0105 - accuracy: 0.9964 - val_loss: 0.1049 - val_accuracy: 0.9810\n",
      "Epoch 23/50\n",
      "600/600 [==============================] - 1s 1ms/step - loss: 0.0081 - accuracy: 0.9969 - val_loss: 0.0884 - val_accuracy: 0.9820\n",
      "Epoch 24/50\n",
      "600/600 [==============================] - 1s 2ms/step - loss: 0.0069 - accuracy: 0.9977 - val_loss: 0.1045 - val_accuracy: 0.9798\n",
      "Epoch 25/50\n",
      "600/600 [==============================] - 1s 2ms/step - loss: 0.0097 - accuracy: 0.9969 - val_loss: 0.1044 - val_accuracy: 0.9799\n",
      "Epoch 26/50\n",
      "600/600 [==============================] - 1s 2ms/step - loss: 0.0074 - accuracy: 0.9974 - val_loss: 0.0941 - val_accuracy: 0.9817\n",
      "Epoch 27/50\n",
      "600/600 [==============================] - 1s 1ms/step - loss: 0.0064 - accuracy: 0.9980 - val_loss: 0.0980 - val_accuracy: 0.9814\n",
      "Epoch 28/50\n",
      "600/600 [==============================] - 1s 1ms/step - loss: 0.0083 - accuracy: 0.9974 - val_loss: 0.1093 - val_accuracy: 0.9800\n",
      "Epoch 29/50\n",
      "600/600 [==============================] - 1s 1ms/step - loss: 0.0080 - accuracy: 0.9973 - val_loss: 0.1220 - val_accuracy: 0.9793\n",
      "Epoch 30/50\n",
      "600/600 [==============================] - 1s 2ms/step - loss: 0.0081 - accuracy: 0.9972 - val_loss: 0.1274 - val_accuracy: 0.9773\n",
      "Epoch 31/50\n",
      "600/600 [==============================] - 1s 1ms/step - loss: 0.0074 - accuracy: 0.9975 - val_loss: 0.1079 - val_accuracy: 0.9798\n",
      "Epoch 32/50\n",
      "600/600 [==============================] - 1s 2ms/step - loss: 0.0066 - accuracy: 0.9979 - val_loss: 0.1080 - val_accuracy: 0.9808\n",
      "Epoch 33/50\n",
      "600/600 [==============================] - 1s 2ms/step - loss: 0.0076 - accuracy: 0.9976 - val_loss: 0.1106 - val_accuracy: 0.9811\n",
      "Epoch 34/50\n",
      "600/600 [==============================] - 1s 2ms/step - loss: 0.0066 - accuracy: 0.9978 - val_loss: 0.1143 - val_accuracy: 0.9798\n",
      "Epoch 35/50\n",
      "600/600 [==============================] - 1s 2ms/step - loss: 0.0053 - accuracy: 0.9983 - val_loss: 0.1157 - val_accuracy: 0.9809\n",
      "Epoch 36/50\n",
      "600/600 [==============================] - 1s 2ms/step - loss: 0.0051 - accuracy: 0.9985 - val_loss: 0.1395 - val_accuracy: 0.9790\n",
      "Epoch 37/50\n",
      "600/600 [==============================] - 1s 2ms/step - loss: 0.0064 - accuracy: 0.9976 - val_loss: 0.1294 - val_accuracy: 0.9802\n",
      "Epoch 38/50\n",
      "600/600 [==============================] - 1s 1ms/step - loss: 0.0060 - accuracy: 0.9979 - val_loss: 0.1370 - val_accuracy: 0.9781\n",
      "Epoch 39/50\n",
      "600/600 [==============================] - 1s 2ms/step - loss: 0.0080 - accuracy: 0.9973 - val_loss: 0.1390 - val_accuracy: 0.9803\n",
      "Epoch 40/50\n",
      "600/600 [==============================] - 1s 2ms/step - loss: 0.0057 - accuracy: 0.9981 - val_loss: 0.1235 - val_accuracy: 0.9795\n",
      "Epoch 41/50\n",
      "600/600 [==============================] - 1s 2ms/step - loss: 0.0058 - accuracy: 0.9982 - val_loss: 0.1447 - val_accuracy: 0.9788\n",
      "Epoch 42/50\n",
      "600/600 [==============================] - 1s 1ms/step - loss: 0.0043 - accuracy: 0.9987 - val_loss: 0.1385 - val_accuracy: 0.9812\n",
      "Epoch 43/50\n",
      "600/600 [==============================] - 1s 1ms/step - loss: 0.0065 - accuracy: 0.9980 - val_loss: 0.1534 - val_accuracy: 0.9790\n",
      "Epoch 44/50\n",
      "600/600 [==============================] - 1s 1ms/step - loss: 0.0072 - accuracy: 0.9975 - val_loss: 0.1429 - val_accuracy: 0.9814\n",
      "Epoch 45/50\n",
      "600/600 [==============================] - 1s 1ms/step - loss: 0.0040 - accuracy: 0.9988 - val_loss: 0.1457 - val_accuracy: 0.9788\n",
      "Epoch 46/50\n",
      "600/600 [==============================] - 1s 2ms/step - loss: 0.0060 - accuracy: 0.9982 - val_loss: 0.1632 - val_accuracy: 0.9762\n",
      "Epoch 47/50\n",
      "600/600 [==============================] - 1s 2ms/step - loss: 0.0058 - accuracy: 0.9981 - val_loss: 0.1589 - val_accuracy: 0.9787\n",
      "Epoch 48/50\n",
      "600/600 [==============================] - 1s 1ms/step - loss: 0.0065 - accuracy: 0.9980 - val_loss: 0.1532 - val_accuracy: 0.9803\n",
      "Epoch 49/50\n",
      "600/600 [==============================] - 1s 1ms/step - loss: 0.0062 - accuracy: 0.9982 - val_loss: 0.1331 - val_accuracy: 0.9813\n",
      "Epoch 50/50\n",
      "600/600 [==============================] - 1s 1ms/step - loss: 0.0042 - accuracy: 0.9985 - val_loss: 0.1432 - val_accuracy: 0.9795\n"
     ]
    },
    {
     "data": {
      "text/plain": [
       "<keras.callbacks.History at 0x28157c13760>"
      ]
     },
     "execution_count": 12,
     "metadata": {},
     "output_type": "execute_result"
    }
   ],
   "source": [
    "model2.fit(image_train_v, labels_train, epochs=50, batch_size=100,validation_data=(image_test_v,labels_test),verbose=1)"
   ]
  },
  {
   "cell_type": "markdown",
   "metadata": {
    "id": "Sj8DmJzDz47F"
   },
   "source": [
    "# 검증"
   ]
  },
  {
   "cell_type": "code",
   "execution_count": 14,
   "metadata": {
    "colab": {
     "base_uri": "https://localhost:8080/"
    },
    "id": "U6wWlHwDz40A",
    "outputId": "22688955-fae4-4aa5-9374-90964ff76a13"
   },
   "outputs": [
    {
     "name": "stdout",
     "output_type": "stream",
     "text": [
      "1875/1875 [==============================] - 2s 901us/step - loss: 0.0016 - accuracy: 0.9995\n",
      "313/313 [==============================] - 0s 799us/step - loss: 0.1432 - accuracy: 0.9795\n"
     ]
    },
    {
     "data": {
      "text/plain": [
       "[0.14315718412399292, 0.9794999957084656]"
      ]
     },
     "execution_count": 14,
     "metadata": {},
     "output_type": "execute_result"
    }
   ],
   "source": [
    "model2.evaluate(image_train_v, labels_train)\n",
    "model2.evaluate(image_test_v, labels_test )\n"
   ]
  },
  {
   "cell_type": "code",
   "execution_count": 17,
   "metadata": {
    "colab": {
     "base_uri": "https://localhost:8080/"
    },
    "id": "Z4aguEwo0C2U",
    "outputId": "d09f383a-6746-4066-b49f-49a148ffe9b9"
   },
   "outputs": [
    {
     "name": "stdout",
     "output_type": "stream",
     "text": [
      "1875/1875 [==============================] - 1s 689us/step\n",
      "(60000, 10)\n",
      "0.99999994\n",
      "5\n"
     ]
    }
   ],
   "source": [
    "output1=model2.predict(image_train_v)\n",
    "#output1=model1.predict(x_train_v[0].reshape(-1,784))\n",
    "print(output1.shape)\n",
    "print(output1[0].max())\n",
    "print(output1[0].argmax())"
   ]
  },
  {
   "cell_type": "code",
   "execution_count": 20,
   "metadata": {
    "colab": {
     "base_uri": "https://localhost:8080/",
     "height": 441
    },
    "id": "3tDkKcjU5RO_",
    "outputId": "6482ed10-e688-4d05-9e89-e96024b18f13"
   },
   "outputs": [],
   "source": [
    "import cv2\n",
    "\n",
    "img2=cv2.imread('2.jpg',cv2.IMREAD_GRAYSCALE)\n",
    "cv2.imshow('img2',img2)\n",
    "cv2.waitKey()\n",
    "cv2.destroyAllWindows()"
   ]
  },
  {
   "cell_type": "code",
   "execution_count": 26,
   "metadata": {
    "id": "J41MFa870D1V"
   },
   "outputs": [
    {
     "name": "stdout",
     "output_type": "stream",
     "text": [
      "INFO:tensorflow:Assets written to: my_model_fashion_mnist\\assets\n"
     ]
    }
   ],
   "source": [
    "model2.save('my_model_fashion_mnist') \n",
    "#model.save('my_model_fashion_mnist.keras') \n",
    "# del model\n",
    "# model2 = keras.models.load_model('my_model_fashion_mnist')\n",
    "#model = keras.models.load_model('my_model_fashion_mnist.keras')\n"
   ]
  },
  {
   "cell_type": "code",
   "execution_count": 27,
   "metadata": {},
   "outputs": [
    {
     "data": {
      "text/plain": [
       "Text(0, 0.5, 'y')"
      ]
     },
     "execution_count": 27,
     "metadata": {},
     "output_type": "execute_result"
    },
    {
     "data": {
      "image/png": "[encoded data removed]",
      "text/plain": [
       "<Figure size 640x480 with 1 Axes>"
      ]
     },
     "metadata": {},
     "output_type": "display_data"
    }
   ],
   "source": [
    "img2n = cv2.resize(img2,(28,28))\n",
    "img2nt = cv2.bitwise_not(img2n)/255.0\n",
    "\n",
    "from matplotlib import pyplot as plt\n",
    "#plt.imshow(x_train[0], cmap = plt.cm.binary)\n",
    "plt.imshow(img2nt, cmap = plt.cm.gray)\n",
    "plt.grid(True)\n",
    "plt.xlabel('x')\n",
    "plt.ylabel('y')"
   ]
  },
  {
   "cell_type": "code",
   "execution_count": null,
   "metadata": {},
   "outputs": [],
   "source": []
  }
 ],
 "metadata": {
  "colab": {
   "provenance": []
  },
  "kernelspec": {
   "display_name": "Python 3 (ipykernel)",
   "language": "python",
   "name": "python3"
  },
  "language_info": {
   "codemirror_mode": {
    "name": "ipython",
    "version": 3
   },
   "file_extension": ".py",
   "mimetype": "text/x-python",
   "name": "python",
   "nbconvert_exporter": "python",
   "pygments_lexer": "ipython3",
   "version": "3.10.13"
  }
 },
 "nbformat": 4,
 "nbformat_minor": 4
}
